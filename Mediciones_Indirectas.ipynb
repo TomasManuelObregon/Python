{
  "nbformat": 4,
  "nbformat_minor": 0,
  "metadata": {
    "colab": {
      "provenance": [],
      "collapsed_sections": [
        "zJrfI_wrxg54"
      ],
      "authorship_tag": "ABX9TyOxEYHL3kdoR5hriKXCaVTt",
      "include_colab_link": true
    },
    "kernelspec": {
      "name": "python3",
      "display_name": "Python 3"
    },
    "language_info": {
      "name": "python"
    }
  },
  "cells": [
    {
      "cell_type": "markdown",
      "metadata": {
        "id": "view-in-github",
        "colab_type": "text"
      },
      "source": [
        "<a href=\"https://colab.research.google.com/github/TomasManuelObregon/Python/blob/main/Mediciones_Indirectas.ipynb\" target=\"_parent\"><img src=\"https://colab.research.google.com/assets/colab-badge.svg\" alt=\"Open In Colab\"/></a>"
      ]
    },
    {
      "cell_type": "markdown",
      "source": [
        "Tomamos un pendulo de longitud *L = 87 cm* => \n",
        "Mediante la formula *g = 4(π^2)L/(T^2) = 9,79 m/s^2* evaluo la exatitud de nuestro experimento.\n",
        "\n",
        "En una muestra de 10s tomamos el primer pico y el utlimo de manera que contenidos en tal intervalo habian 5 periodos. Por lo que tomamos el ultimo extremo, le restamos el primero, dividimos por 5 y obtenemos el **promedio de los periodos**.\n",
        "Estos promedios estan validados por la teoria ya que cumplen la ecuacion anterior. Ya que midiendo indirectamente 5 periodos, con promedio 1.875s, la gravedad dio lo que tenia que dar.\n",
        "\n",
        "\n",
        "\n"
      ],
      "metadata": {
        "id": "qcDqnOhcf5Ja"
      }
    },
    {
      "cell_type": "markdown",
      "source": [
        "####Importo cosas locas"
      ],
      "metadata": {
        "id": "zJrfI_wrxg54"
      }
    },
    {
      "cell_type": "code",
      "execution_count": null,
      "metadata": {
        "id": "-L1x6uNifXVP"
      },
      "outputs": [],
      "source": [
        "import numpy as np\n",
        "import matplotlib.pyplot as plt\n",
        "from pandas import read_csv\n",
        "\n",
        "\"\"\"No tengo idea que significa esto\"\"\"\n",
        "\n",
        "def leermd(filename):\n",
        "    result = []\n",
        "    # Leer el archivo, separado por tabulaciones, salteando 3 lineas de header\n",
        "    #     y empleando la coma como separador decimal\n",
        "    df = read_csv(filename, sep='\\t', skiprows=3, decimal=',')\n",
        "    # Convertir el dataframe de pandas a un array de numpy\n",
        "    nparray = df.values\n",
        "    # Remover los posibles nans del archivo\n",
        "    nparray = nparray[~np.isnan(nparray).any(axis=1)]\n",
        "    # Asignar las columnas a variables de salida\n",
        "    for cols in range(nparray.shape[1]):\n",
        "        out = nparray[:,cols]\n",
        "        result.append(out)\n",
        "        \n",
        "    return result"
      ]
    },
    {
      "cell_type": "markdown",
      "source": [
        "##Magic"
      ],
      "metadata": {
        "id": "D5tOXi84fMGZ"
      }
    },
    {
      "cell_type": "code",
      "source": [
        "\"\"\"\n",
        "'hola.txt' es como una matriz de dos columnas. En una columna estan las frecuencias, 'ph', del obturador y\n",
        "en la otra los tiempos,'ts'.\n",
        "\"\"\"\n",
        "\n",
        "ts, ph = leermd(\"hola.txt\")\n",
        " \n",
        "\"\"\" \n",
        "resto la ph[i] a ph[i+1] y creo otro array con dichas diferencias.\n",
        "\n",
        "OBS = np.diff aniquila el primer dato. \n",
        "\"\"\"\n",
        "dph = np.diff(ph)\n",
        "\n",
        "\"\"\" \n",
        "Ahora defino idx_i como el indice correspondiente al extremo izquierdo de la perturvacion e idx_d como al perteneciente al derecho.\n",
        "Si dph[i+1] - dph[i] < -2 entonses 'sobrevive'. Analogamente para el indice del otro extremo. \n",
        "\n",
        "OBS= Resto -1 en idx_d para quedarme con el indice que realmente quiero y no con el que np.where me da.\n",
        "\"\"\"\n",
        "idx_i = np.where(dph<-2)[0]\n",
        "idx_d = np.where(dph>2)[0] -1\n",
        "\n",
        "\"\"\"\n",
        "Creo nuevos arrays. Paso de indices a tiempos.\n",
        "Luego calculo el punto medio de cada obturación.\n",
        "\"\"\"\n",
        "tiempo_i = ts[idx_i]\n",
        "tiempo_d = ts[idx_d]\n",
        "\n",
        "punto_medio = tiempo_i + (tiempo_d - tiempo_i)/2 \n",
        "\n",
        "\"\"\"\n",
        "Por último, utilizo un arcaico ciclo for para indexar a un nuevo array 'datos' aquellos puntos medios tales que su indice i sean impares.\n",
        "\"\"\"\n",
        "datos = []\n",
        "\n",
        "for i in range(len(punto_medio)):\n",
        "   if i % 2 != 0:\n",
        "    datos.append(punto_medio[i])\n",
        "\n",
        "\"\"\"\n",
        "Utilizo una ultima vez np.diff para restar los puntos medios y obtener los períodos.\n",
        "\"\"\"\n",
        "\n",
        "periodos = np.diff(datos)\n",
        "\n",
        "print(len(periodos)) # con nuestros datos logramos obtener 104 periodos :)\n",
        "\n",
        "print(periodos)"
      ],
      "metadata": {
        "colab": {
          "base_uri": "https://localhost:8080/"
        },
        "id": "C-xPPMfex2sk",
        "outputId": "66613f1c-faa3-4076-d635-0112f449d753"
      },
      "execution_count": null,
      "outputs": [
        {
          "output_type": "stream",
          "name": "stdout",
          "text": [
            "104\n",
            "[1.875   1.874   1.87375 1.87425 1.8745  1.874   1.87425 1.87425 1.87425\n",
            " 1.874   1.87425 1.87425 1.874   1.874   1.874   1.874   1.874   1.874\n",
            " 1.874   1.874   1.87375 1.874   1.874   1.874   1.87375 1.874   1.87375\n",
            " 1.874   1.87375 1.87375 1.8735  1.874   1.8735  1.874   1.8735  1.87375\n",
            " 1.87375 1.8735  1.87375 1.8735  1.8735  1.87375 1.87325 1.87375 1.87325\n",
            " 1.8735  1.8735  1.8735  1.8735  1.8735  1.8735  1.87325 1.87325 1.8735\n",
            " 1.87325 1.8735  1.87325 1.87325 1.87325 1.87325 1.873   1.8735  1.873\n",
            " 1.873   1.8735  1.873   1.873   1.87325 1.873   1.873   1.87325 1.87325\n",
            " 1.873   1.873   1.873   1.873   1.873   1.873   1.87275 1.87275 1.873\n",
            " 1.87275 1.873   1.87275 1.87275 1.873   1.87275 1.87275 1.873   1.8725\n",
            " 1.87275 1.87275 1.87275 1.87275 1.87275 1.8725  1.873   1.8725  1.8725\n",
            " 1.8725  1.87275 1.8725  1.8725  1.8725 ]\n"
          ]
        }
      ]
    },
    {
      "cell_type": "markdown",
      "source": [
        "Armo una funcion para llamarla al insertar nuevos datos.\n",
        "\n",
        "\n",
        "*   'i' = Es el nombre que va a tener el array de tus periodos.\n",
        "*   'data' = Es el .txt con las frecuencias y los tiempos.\n"
      ],
      "metadata": {
        "id": "F4FAtiI7fXd6"
      }
    },
    {
      "cell_type": "markdown",
      "source": [
        "#La Posta"
      ],
      "metadata": {
        "id": "jn28ryowdfnf"
      }
    },
    {
      "cell_type": "code",
      "source": [
        "def leer_data(i,data):\n",
        "  def leermd(filename):\n",
        "      result = []\n",
        "      # Leer el archivo, separado por tabulaciones, salteando 3 lineas de header\n",
        "      #     y empleando la coma como separador decimal\n",
        "      df = read_csv(filename, sep='\\t', skiprows=3, decimal=',')\n",
        "      # Convertir el dataframe de pandas a un array de numpy\n",
        "      nparray = df.values\n",
        "      # Remover los posibles nans del archivo\n",
        "      nparray = nparray[~np.isnan(nparray).any(axis=1)]\n",
        "      # Asignar las columnas a variables de salida\n",
        "      for cols in range(nparray.shape[1]):\n",
        "          out = nparray[:,cols]\n",
        "          result.append(out)\n",
        "      return result      \n",
        " \n",
        "  ts, ph = leermd(data)\n",
        "\n",
        "  dph = np.diff(ph)\n",
        "\n",
        "  idx_i = np.where(dph<-2)[0]\n",
        "  idx_d = np.where(dph>2)[0]-1\n",
        "\n",
        "  tiempo_d = ts[idx_d]\n",
        "  tiempo_i = ts[idx_i]\n",
        "\n",
        "  punto_medio = tiempo_i + (tiempo_d - tiempo_i)/2 \n",
        "\n",
        "  datos = []\n",
        "  for i in range(len(punto_medio)):\n",
        "    if i % 2 != 0:\n",
        "      datos.append(punto_medio[i])\n",
        "\n",
        "  i = np.diff(datos)\n",
        "  print(i)\n",
        "\n",
        "  return "
      ],
      "metadata": {
        "id": "LT0IwYK7X6KT"
      },
      "execution_count": null,
      "outputs": []
    }
  ]
}