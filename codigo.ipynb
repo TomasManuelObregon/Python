{
 "cells": [
  {
   "cell_type": "markdown",
   "id": "ba47d0fa-108d-498b-8ec5-3fbcabf36a2f",
   "metadata": {
    "tags": []
   },
   "source": [
    "### Importo TODO indiscriminadamente "
   ]
  },
  {
   "cell_type": "code",
   "execution_count": 7,
   "id": "19e24096-e40c-4509-8248-90db71df856f",
   "metadata": {},
   "outputs": [],
   "source": [
    "import numpy as np\n",
    "import matplotlib.pyplot as plt\n",
    "from pandas import read_csv\n",
    "import seaborn as sns\n",
    "import scipy.stats as stats\n",
    "from scipy.optimize import curve_fit"
   ]
  },
  {
   "cell_type": "markdown",
   "id": "1440845a-4acb-4942-8187-055212c00547",
   "metadata": {},
   "source": [
    "### Codigo"
   ]
  },
  {
   "cell_type": "markdown",
   "id": "75b3fba2-331b-4b8e-a945-2b2dd9f01874",
   "metadata": {
    "jp-MarkdownHeadingCollapsed": true,
    "tags": []
   },
   "source": [
    "#### Importar una matriz de datos y ponerla en un array lineal"
   ]
  },
  {
   "cell_type": "code",
   "execution_count": null,
   "id": "a30a93bc-68c6-4647-9445-5422d73d57e3",
   "metadata": {},
   "outputs": [],
   "source": [
    "path = ''\n",
    "datos = np.genfromtxt(path + '',delimiter= ';').reshape(1,300)\n",
    "\n",
    "# Hay que cambiar 300 con el largo del nuevo array"
   ]
  },
  {
   "cell_type": "markdown",
   "id": "9a5b3112-6d78-4d35-9c09-0b22c54f9d4e",
   "metadata": {
    "jp-MarkdownHeadingCollapsed": true,
    "tags": []
   },
   "source": [
    "#### Funcion para sacar los intervalos de confianza"
   ]
  },
  {
   "cell_type": "code",
   "execution_count": null,
   "id": "b27c547c-61bc-4d30-8931-2d524119d4f5",
   "metadata": {},
   "outputs": [],
   "source": [
    "T = []\n",
    "\n",
    "def intervalos(data):\n",
    "  x0 = np.round(np.mean(data), decimals = 3)\n",
    "  s = np.round(np.std(data), decimals = 3)\n",
    "  print(f'Valor medio: {x0}, Desv. Estandar: {s}')\n",
    "  print(f'Intervalo 68% = ({np.round(x0-s, decimals = 3)} ; {np.round(x0+s, decimals = 3)})s') \n",
    "  print(f'Intervalo 95% = ({np.round(x0-2*s, decimals = 3)} ; {np.round(x0+2*s, decimals = 3)})s') \n",
    "  print(f'Intervalo 99% = ({np.round(x0-3*s, decimals = 3)} ; {np.round(x0+3*s, decimals = 3)})s') \n",
    "\n",
    "intervalos(T)"
   ]
  },
  {
   "cell_type": "markdown",
   "id": "eb049d04-717c-4b1a-bcf5-3512c888c639",
   "metadata": {
    "jp-MarkdownHeadingCollapsed": true,
    "tags": []
   },
   "source": [
    "#### Funcion para leer archivos del photogate"
   ]
  },
  {
   "cell_type": "code",
   "execution_count": 4,
   "id": "cb0e88c1-3e27-4cd1-8d4b-50f83f57cfb8",
   "metadata": {},
   "outputs": [],
   "source": [
    "def leer_data(data, largo):\n",
    "    def leermd(filename):\n",
    "        result = []\n",
    "        df = read_csv(filename, sep='\\t', skiprows=3, decimal=',')\n",
    "        nparray = df.values\n",
    "        nparray = nparray[~np.isnan(nparray).any(axis=1)]\n",
    "        for cols in range(nparray.shape[1]):\n",
    "            out = nparray[:,cols]\n",
    "            result.append(out)\n",
    "        return result      \n",
    "    #Lo de arriba no lo hice yo :P\n",
    "\n",
    "    # VAS A TENER QUE CAMBIAR EL PATH\n",
    "    path = ''\n",
    "    \n",
    "    ts, ph = leermd(path+data)\n",
    "\n",
    "    dph = np.diff(ph)\n",
    "\n",
    "    idx_i = np.where(dph<-2)[0]\n",
    "    idx_d = np.where(dph>2)[0]-1\n",
    "\n",
    "    tiempo_d = ts[idx_d]\n",
    "    tiempo_i = ts[idx_i]\n",
    "\n",
    "    punto_medio = tiempo_i + (tiempo_d - tiempo_i)/2 \n",
    "\n",
    "    datos = []\n",
    "    for i in range(len(punto_medio)):\n",
    "        if i % 2 != 0:\n",
    "            datos.append(punto_medio[i])\n",
    "\n",
    "    periodos = np.diff(datos)\n",
    "    \n",
    "    x0 = np.round(np.mean(periodos), decimals = 3)\n",
    "    s = np.round(np.std(periodos), decimals = 3)\n",
    "    print(f'Cantidad de periodos: {len(periodos)}')\n",
    "    print(f'Valor medio: {x0} \\ Desviacion estandar: {s}')\n",
    "    \n",
    "    g = (4*(np.pi**2)*largo)/x0**2\n",
    "    g = np.round(g, decimals=3)\n",
    "    print(f'El valor de g con el valor medio es: {g}')\n",
    "\n",
    "    return periodos "
   ]
  },
  {
   "cell_type": "markdown",
   "id": "735ce540-3383-4660-913a-0ed21dc89625",
   "metadata": {
    "jp-MarkdownHeadingCollapsed": true,
    "tags": []
   },
   "source": [
    "#### Empiezan las cosas de Histogramas"
   ]
  },
  {
   "cell_type": "markdown",
   "id": "53f1b62a-bdb5-401b-bac5-1cf15e04bb43",
   "metadata": {},
   "source": [
    "Mezclar y dividir datos"
   ]
  },
  {
   "cell_type": "code",
   "execution_count": null,
   "id": "a76de811-4af2-492b-aa03-13482d82d9a9",
   "metadata": {},
   "outputs": [],
   "source": [
    "# Pone el path\n",
    "path = ''\n",
    "datos = np.genfromtxt(path)\n",
    "np.random.seed(0)\n",
    "np.random.shuffle(datos)\n",
    "d = np.split(datos, 10)"
   ]
  },
  {
   "cell_type": "markdown",
   "id": "a5491b5e-bf70-4aca-900a-3a8ff4b69707",
   "metadata": {},
   "source": [
    "Defino una funcion bastante general para graficar histogramas"
   ]
  },
  {
   "cell_type": "code",
   "execution_count": 12,
   "id": "bd4deccc-f4de-4e39-8858-a1b41875ed9c",
   "metadata": {},
   "outputs": [],
   "source": [
    "def todo(i, b, k):\n",
    "\n",
    "    # b define el ancho de los bins \n",
    "    # Defino el Valor medio(x) y la Desviacion Media(s)\n",
    "    x = np.round(np.mean(i), decimals=2)\n",
    "    s = np.round(np.std(i), decimals=2)   \n",
    "    print(f'Valor Medio: {x} - Desviacion Estandar: {s}')\n",
    "\n",
    "    # Dibujo el Histograma de cada Grupo\n",
    "    sns.histplot(i,\n",
    "                 binwidth= b, \n",
    "                 binrange=(1.50,2.10),\n",
    "                 color='lightblue', edgecolor='black'\n",
    "                )\n",
    "    \n",
    "    plt.title(f'Grupo {k}', fontsize=25)\n",
    "    plt.grid(axis='y', linestyle='-.', color='black')\n",
    "    plt.xlabel('Tiempo [s]', fontsize=15)\n",
    "    plt.ylabel('Cantidad de Repeticiones', fontsize=15)\n",
    "    plt.xlim(1.45,2.15)\n",
    "    plt.show()\n",
    "    return\n",
    "\n",
    "#• Va a haber que cambiar el 'binrange' y el 'plt.xlim'\n",
    "#• stat = 'probability' normaliza el histograma como quieren aca\n"
   ]
  },
  {
   "cell_type": "markdown",
   "id": "42c991bd-7af6-488e-ad0a-543188b458c2",
   "metadata": {
    "jp-MarkdownHeadingCollapsed": true,
    "tags": []
   },
   "source": [
    "#### Defino una funcion para graficar las gaussianas asociadas a cada Grupo (sin normalizar)"
   ]
  },
  {
   "cell_type": "code",
   "execution_count": 19,
   "id": "128ae413-6bd1-4081-8b01-c5d26e553b94",
   "metadata": {},
   "outputs": [],
   "source": [
    "def gauss(i,j,k,l):\n",
    "\n",
    "    \"\"\"\n",
    "    Para llamar la funcion debo dar las siguientes variavles:\n",
    "    i = valor medio\n",
    "    j = Desviacion estandar\n",
    "    k = color de cada funcion\n",
    "    l = Etiqueta de cada funcion\n",
    "    \"\"\"\n",
    "    # Creo un array con mil datos entre los valores que necesite (los del binrange)\n",
    "    X = np.linspace( , ,1000)\n",
    "    Y = stats.norm.pdf(X, loc= i , scale= j)\n",
    "    plt.plot(X,Y , color = k, label= l)\n",
    "    plt.legend()"
   ]
  },
  {
   "cell_type": "markdown",
   "id": "994dab15-89fc-49c5-844a-3ad72fae14c3",
   "metadata": {
    "jp-MarkdownHeadingCollapsed": true,
    "tags": []
   },
   "source": [
    "#### Grafico la curva ajustada al histograma de todos los datos"
   ]
  },
  {
   "cell_type": "code",
   "execution_count": null,
   "id": "3500944a-eeb5-4598-bb5c-c70e76c8dcf9",
   "metadata": {},
   "outputs": [],
   "source": [
    "# Histograma\n",
    "\n",
    "#• Va a haber que cambiar el 'binrange', el 'plt.xlim' y el 'binwidth'\n",
    "sns.histplot(datos,\n",
    "              stat = 'probability',\n",
    "              binwidth= 0.10, \n",
    "              binrange=(1.50,2.10),\n",
    "              alpha= 0.5,\n",
    "              color='lightblue' \n",
    "            )\n",
    "\n",
    "# Puntos de la Tablita\n",
    "X = [] # el valor medio de cada columna\n",
    "Y = [] # suerte\n",
    "\n",
    "plt.scatter(X,Y, color= 'black')\n",
    "\n",
    "\n",
    "# Curva\n",
    "def f_g(i,u,d,a):\n",
    "  Y = (a)/(d*np.sqrt(2*np.pi))*np.exp(-(i-u)**2/(2*(d**2)))\n",
    "  return Y\n",
    "\n",
    "popt,pcov = curve_fit(f_g,X,Y,p0=[1.8,0.11,0.09])\n",
    "x_ = popt[0]\n",
    "s_ = popt[1]\n",
    "a_ = popt[2]\n",
    "\n",
    "eje_x = np.linspace(1.45,2.15,1000)\n",
    "eje_y = f_g(eje_x,x_,s_,a_)\n",
    "\n",
    "plt.plot(eje_x ,eje_y, color= 'red')\n",
    "\n",
    "plt.xlabel('Tiempo [s]', fontsize=15)\n",
    "plt.ylabel('Conteo', fontsize=15)\n",
    "plt.xlim(1.45,2.15)\n",
    "plt.grid()\n",
    "plt.show()"
   ]
  },
  {
   "cell_type": "markdown",
   "id": "6a02754c-20d2-4dfc-9b43-e866e0d3cfe9",
   "metadata": {},
   "source": [
    "Esta es la linea de codigo que use para sacar las alturas de las columnas"
   ]
  },
  {
   "cell_type": "code",
   "execution_count": null,
   "id": "6d634ce9-4c0f-4e07-8a68-b5442835dda6",
   "metadata": {},
   "outputs": [],
   "source": [
    "import pandas as pd\n",
    "\n",
    "serie = pd.Series(datos)\n",
    "hist = serie.hist(bins=6, range=(1.50,2.10))\n",
    "\n",
    "def get_hist(ax):\n",
    "    n,bins = [],[]\n",
    "    for rect in ax.patches:\n",
    "        ((x0, y0), (x1, y1)) = rect.get_bbox().get_points()\n",
    "        n.append(y1-y0)\n",
    "        bins.append(x0) # left edge of each bin\n",
    "    bins.append(x1) # also get right edge of last bin\n",
    "\n",
    "    return n,bins\n",
    "\n",
    "n, bins = get_hist(hist)\n",
    "\n",
    "print(n)\n",
    "\n",
    "lol=[]\n",
    "for i in range(0,6):\n",
    "  lol.append(np.round(n[i] / 600, decimals=3))\n",
    "\n",
    "print(lol)\n",
    "plt.show()\n",
    "\n",
    "#• Obviamente voy a tener que cambiar los bins y el range en el histograma \n",
    "#• Tambien va a haber que cambiar el '600' por la cantidad de datos que tenga la lista"
   ]
  }
 ],
 "metadata": {
  "kernelspec": {
   "display_name": "Python 3 (ipykernel)",
   "language": "python",
   "name": "python3"
  },
  "language_info": {
   "codemirror_mode": {
    "name": "ipython",
    "version": 3
   },
   "file_extension": ".py",
   "mimetype": "text/x-python",
   "name": "python",
   "nbconvert_exporter": "python",
   "pygments_lexer": "ipython3",
   "version": "3.9.12"
  },
  "toc-autonumbering": false,
  "toc-showmarkdowntxt": false
 },
 "nbformat": 4,
 "nbformat_minor": 5
}
